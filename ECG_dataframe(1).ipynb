{
 "cells": [
  {
   "cell_type": "code",
   "execution_count": 1,
   "id": "8f71ec09-3d90-4025-b6ba-9da26d230f61",
   "metadata": {},
   "outputs": [],
   "source": [
    "import pandas as pd\n",
    "import os"
   ]
  },
  {
   "cell_type": "code",
   "execution_count": null,
   "id": "c826353c-3ec4-4949-b9fa-45a398b6f5ce",
   "metadata": {},
   "outputs": [],
   "source": [
    "root_directory1 = r\"C:\\Users\\leagi\\Documents\\EI22\\Projet Ecole\\data\\Physiological\""
   ]
  },
  {
   "cell_type": "code",
   "execution_count": null,
   "id": "57cf0ae8-75a0-4df3-a163-e3fb52ce1b82",
   "metadata": {},
   "outputs": [],
   "source": [
    "def read_ecg_files(root_folder):\n",
    "    all_data = pd.DataFrame(columns=['ID', 'Task', 'ECG'])  # DataFrame to store the ECG data\n",
    "    \n",
    "    # Recursive traversal of all files in the root folder\n",
    "    for root, dirs, files in os.walk(root_folder):\n",
    "        for file in files:\n",
    "            # Check if the file is an ECG data file\n",
    "            if file.endswith(\"_ecg_data.csv\"):\n",
    "                # Extract the individual ID and task from the file name\n",
    "                file_parts = file.split('_')\n",
    "                id = file_parts[0]  # Assuming the individual ID is the first part of the file name\n",
    "                task = file_parts[1]  # Assuming the task is the second part of the file name\n",
    "\n",
    "                # Read the ECG data from the file and add it to the DataFrame\n",
    "                try:\n",
    "                    ecg_data = pd.read_csv(os.path.join(root, file))\n",
    "                    ecg_values = ecg_data.values.flatten()\n",
    "                    df = pd.DataFrame({'ID': id, 'Task': task, 'ECG': ecg_values})\n",
    "                    all_data = pd.concat([all_data, df], ignore_index=True)\n",
    "                except Exception as e:\n",
    "                    print(f\"Error reading file {file}: {e}\")\n",
    "\n",
    "    #enregistrement de la base donnée\n",
    "    all_data.to_csv(r'C:\\Users\\leagi\\Documents\\EI22\\Projet Ecole\\data\\ecg_dataset.csv',sep=';', index=False)\n",
    "\n",
    "    return all_data"
   ]
  },
  {
   "cell_type": "code",
   "execution_count": null,
   "id": "d95cfe47-b32a-4f26-9d91-370b92bad872",
   "metadata": {},
   "outputs": [],
   "source": [
    "ecg_df = read_ecg_files(root_directory1)"
   ]
  },
  {
   "cell_type": "code",
   "execution_count": null,
   "id": "d6509573-0fe3-480c-991e-0a4f5692dc98",
   "metadata": {},
   "outputs": [],
   "source": [
    "print(ecg_df['ECG_Clean'].isnull().sum()) #compte les missing values"
   ]
  }
 ],
 "metadata": {
  "kernelspec": {
   "display_name": "Python 3 (ipykernel)",
   "language": "python",
   "name": "python3"
  },
  "language_info": {
   "codemirror_mode": {
    "name": "ipython",
    "version": 3
   },
   "file_extension": ".py",
   "mimetype": "text/x-python",
   "name": "python",
   "nbconvert_exporter": "python",
   "pygments_lexer": "ipython3",
   "version": "3.12.4"
  }
 },
 "nbformat": 4,
 "nbformat_minor": 5
}
